{
  "cells": [
    {
      "cell_type": "code",
      "execution_count": 1,
      "metadata": {
        "colab": {
          "base_uri": "https://localhost:8080/"
        },
        "id": "lnsF9hWdVisI",
        "outputId": "798db221-c915-4a9d-ebfc-93d13031cab8"
      },
      "outputs": [
        {
          "output_type": "stream",
          "name": "stdout",
          "text": [
            "Mounted at /content/drive\n"
          ]
        }
      ],
      "source": [
        "from google.colab import drive\n",
        "drive.mount('/content/drive')"
      ]
    },
    {
      "cell_type": "markdown",
      "source": [
        "##3.2 Warm-up Exercises"
      ],
      "metadata": {
        "id": "DG2lUlYkxQPf"
      }
    },
    {
      "cell_type": "markdown",
      "source": [
        "###Sorting and Subsetting"
      ],
      "metadata": {
        "id": "wc9du_hkyIYx"
      }
    },
    {
      "cell_type": "code",
      "source": [
        "import pandas as pd\n",
        "#Loading the dataset\n",
        "df = pd.read_csv(\"/content/drive/MyDrive/Titanic-Dataset.csv\")\n",
        "print(df.info())"
      ],
      "metadata": {
        "colab": {
          "base_uri": "https://localhost:8080/"
        },
        "id": "edY1zet_yQw_",
        "outputId": "7d506727-768f-4cdd-d8b9-f9933897cfdd"
      },
      "execution_count": 2,
      "outputs": [
        {
          "output_type": "stream",
          "name": "stdout",
          "text": [
            "<class 'pandas.core.frame.DataFrame'>\n",
            "RangeIndex: 891 entries, 0 to 890\n",
            "Data columns (total 12 columns):\n",
            " #   Column       Non-Null Count  Dtype  \n",
            "---  ------       --------------  -----  \n",
            " 0   PassengerId  891 non-null    int64  \n",
            " 1   Survived     891 non-null    int64  \n",
            " 2   Pclass       891 non-null    int64  \n",
            " 3   Name         891 non-null    object \n",
            " 4   Sex          891 non-null    object \n",
            " 5   Age          714 non-null    float64\n",
            " 6   SibSp        891 non-null    int64  \n",
            " 7   Parch        891 non-null    int64  \n",
            " 8   Ticket       891 non-null    object \n",
            " 9   Fare         891 non-null    float64\n",
            " 10  Cabin        204 non-null    object \n",
            " 11  Embarked     889 non-null    object \n",
            "dtypes: float64(2), int64(5), object(5)\n",
            "memory usage: 83.7+ KB\n",
            "None\n"
          ]
        }
      ]
    },
    {
      "cell_type": "markdown",
      "source": [],
      "metadata": {
        "id": "0RBB7mdLzKmN"
      }
    },
    {
      "cell_type": "markdown",
      "source": [
        "####Problem 1"
      ],
      "metadata": {
        "id": "NJ7Xx9yFyoP8"
      }
    },
    {
      "cell_type": "code",
      "source": [
        "#Creating dataframe of Fare\n",
        "fare_df = df[['Fare']]\n",
        "print(fare_df.head())"
      ],
      "metadata": {
        "colab": {
          "base_uri": "https://localhost:8080/"
        },
        "id": "-ZeGDeFfyk1Q",
        "outputId": "6f4d6376-9974-48ff-fa5d-c54af9a77bf0"
      },
      "execution_count": 6,
      "outputs": [
        {
          "output_type": "stream",
          "name": "stdout",
          "text": [
            "      Fare\n",
            "0   7.2500\n",
            "1  71.2833\n",
            "2   7.9250\n",
            "3  53.1000\n",
            "4   8.0500\n"
          ]
        }
      ]
    },
    {
      "cell_type": "code",
      "source": [
        "#Creating dataframe of Pclass and Age\n",
        "class_age = df[['Pclass','Age']]\n",
        "print(class_age.head())"
      ],
      "metadata": {
        "colab": {
          "base_uri": "https://localhost:8080/"
        },
        "id": "udl6Iwh2yk0A",
        "outputId": "9bc60e2d-77d6-4e92-d6a5-88f30be35004"
      },
      "execution_count": 7,
      "outputs": [
        {
          "output_type": "stream",
          "name": "stdout",
          "text": [
            "   Pclass   Age\n",
            "0       3  22.0\n",
            "1       1  38.0\n",
            "2       3  26.0\n",
            "3       1  35.0\n",
            "4       3  35.0\n"
          ]
        }
      ]
    },
    {
      "cell_type": "code",
      "source": [
        "#Creating dataframe of survived and gender\n",
        "survived_gender = df[['Survived','Sex']]\n",
        "print(survived_gender.head())"
      ],
      "metadata": {
        "colab": {
          "base_uri": "https://localhost:8080/"
        },
        "id": "ZZEsDBdqzitM",
        "outputId": "419bcba1-f207-4500-85ce-e52b3959d916"
      },
      "execution_count": 8,
      "outputs": [
        {
          "output_type": "stream",
          "name": "stdout",
          "text": [
            "   Survived     Sex\n",
            "0         0    male\n",
            "1         1  female\n",
            "2         1  female\n",
            "3         1  female\n",
            "4         0    male\n"
          ]
        }
      ]
    },
    {
      "cell_type": "markdown",
      "source": [
        "####Problem 2"
      ],
      "metadata": {
        "id": "KZh9DGh3z67H"
      }
    },
    {
      "cell_type": "code",
      "source": [
        "#Creating dataframe where fare is greater than 100\n",
        "fare_gt_100 = df[df['Fare']>100]\n",
        "print(fare_gt_100.info())"
      ],
      "metadata": {
        "colab": {
          "base_uri": "https://localhost:8080/"
        },
        "id": "HLlIEaH5zzdV",
        "outputId": "10614821-4c51-4711-d26b-cb1f7f7c423a"
      },
      "execution_count": 10,
      "outputs": [
        {
          "output_type": "stream",
          "name": "stdout",
          "text": [
            "<class 'pandas.core.frame.DataFrame'>\n",
            "Index: 53 entries, 27 to 856\n",
            "Data columns (total 12 columns):\n",
            " #   Column       Non-Null Count  Dtype  \n",
            "---  ------       --------------  -----  \n",
            " 0   PassengerId  53 non-null     int64  \n",
            " 1   Survived     53 non-null     int64  \n",
            " 2   Pclass       53 non-null     int64  \n",
            " 3   Name         53 non-null     object \n",
            " 4   Sex          53 non-null     object \n",
            " 5   Age          48 non-null     float64\n",
            " 6   SibSp        53 non-null     int64  \n",
            " 7   Parch        53 non-null     int64  \n",
            " 8   Ticket       53 non-null     object \n",
            " 9   Fare         53 non-null     float64\n",
            " 10  Cabin        43 non-null     object \n",
            " 11  Embarked     53 non-null     object \n",
            "dtypes: float64(2), int64(5), object(5)\n",
            "memory usage: 5.4+ KB\n",
            "None\n"
          ]
        }
      ]
    },
    {
      "cell_type": "code",
      "source": [
        "#Creating dataframe where Pclass is 1\n",
        "first_class = df[df['Pclass'] == 1]\n",
        "print(first_class.info())\n",
        "print(first_class.head())"
      ],
      "metadata": {
        "colab": {
          "base_uri": "https://localhost:8080/"
        },
        "id": "oDwPBd2K0TWf",
        "outputId": "8786200d-fea8-4f5b-fe60-7f26e766592d"
      },
      "execution_count": 12,
      "outputs": [
        {
          "output_type": "stream",
          "name": "stdout",
          "text": [
            "<class 'pandas.core.frame.DataFrame'>\n",
            "Index: 216 entries, 1 to 889\n",
            "Data columns (total 12 columns):\n",
            " #   Column       Non-Null Count  Dtype  \n",
            "---  ------       --------------  -----  \n",
            " 0   PassengerId  216 non-null    int64  \n",
            " 1   Survived     216 non-null    int64  \n",
            " 2   Pclass       216 non-null    int64  \n",
            " 3   Name         216 non-null    object \n",
            " 4   Sex          216 non-null    object \n",
            " 5   Age          186 non-null    float64\n",
            " 6   SibSp        216 non-null    int64  \n",
            " 7   Parch        216 non-null    int64  \n",
            " 8   Ticket       216 non-null    object \n",
            " 9   Fare         216 non-null    float64\n",
            " 10  Cabin        176 non-null    object \n",
            " 11  Embarked     214 non-null    object \n",
            "dtypes: float64(2), int64(5), object(5)\n",
            "memory usage: 21.9+ KB\n",
            "None\n",
            "    PassengerId  Survived  Pclass  \\\n",
            "1             2         1       1   \n",
            "3             4         1       1   \n",
            "6             7         0       1   \n",
            "11           12         1       1   \n",
            "23           24         1       1   \n",
            "\n",
            "                                                 Name     Sex   Age  SibSp  \\\n",
            "1   Cumings, Mrs. John Bradley (Florence Briggs Th...  female  38.0      1   \n",
            "3        Futrelle, Mrs. Jacques Heath (Lily May Peel)  female  35.0      1   \n",
            "6                             McCarthy, Mr. Timothy J    male  54.0      0   \n",
            "11                           Bonnell, Miss. Elizabeth  female  58.0      0   \n",
            "23                       Sloper, Mr. William Thompson    male  28.0      0   \n",
            "\n",
            "    Parch    Ticket     Fare Cabin Embarked  \n",
            "1       0  PC 17599  71.2833   C85        C  \n",
            "3       0    113803  53.1000  C123        S  \n",
            "6       0     17463  51.8625   E46        S  \n",
            "11      0    113783  26.5500  C103        S  \n",
            "23      0    113788  35.5000    A6        S  \n"
          ]
        }
      ]
    },
    {
      "cell_type": "code",
      "source": [
        "#Filter for female passengers under 18\n",
        "female_under_18 = df[(df['Sex'] == 'female') & (df['Age'] < 18)]\n",
        "print(female_under_18.info())\n",
        "print(female_under_18.head())"
      ],
      "metadata": {
        "colab": {
          "base_uri": "https://localhost:8080/"
        },
        "id": "--ALRhZV0n09",
        "outputId": "4acc3a8f-c40c-4ed5-da5a-9cacb0f699e0"
      },
      "execution_count": 13,
      "outputs": [
        {
          "output_type": "stream",
          "name": "stdout",
          "text": [
            "<class 'pandas.core.frame.DataFrame'>\n",
            "Index: 55 entries, 9 to 875\n",
            "Data columns (total 12 columns):\n",
            " #   Column       Non-Null Count  Dtype  \n",
            "---  ------       --------------  -----  \n",
            " 0   PassengerId  55 non-null     int64  \n",
            " 1   Survived     55 non-null     int64  \n",
            " 2   Pclass       55 non-null     int64  \n",
            " 3   Name         55 non-null     object \n",
            " 4   Sex          55 non-null     object \n",
            " 5   Age          55 non-null     float64\n",
            " 6   SibSp        55 non-null     int64  \n",
            " 7   Parch        55 non-null     int64  \n",
            " 8   Ticket       55 non-null     object \n",
            " 9   Fare         55 non-null     float64\n",
            " 10  Cabin        11 non-null     object \n",
            " 11  Embarked     55 non-null     object \n",
            "dtypes: float64(2), int64(5), object(5)\n",
            "memory usage: 5.6+ KB\n",
            "None\n",
            "    PassengerId  Survived  Pclass                                  Name  \\\n",
            "9            10         1       2   Nasser, Mrs. Nicholas (Adele Achem)   \n",
            "10           11         1       3       Sandstrom, Miss. Marguerite Rut   \n",
            "14           15         0       3  Vestrom, Miss. Hulda Amanda Adolfina   \n",
            "22           23         1       3           McGowan, Miss. Anna \"Annie\"   \n",
            "24           25         0       3         Palsson, Miss. Torborg Danira   \n",
            "\n",
            "       Sex   Age  SibSp  Parch   Ticket     Fare Cabin Embarked  \n",
            "9   female  14.0      1      0   237736  30.0708   NaN        C  \n",
            "10  female   4.0      1      1  PP 9549  16.7000    G6        S  \n",
            "14  female  14.0      0      0   350406   7.8542   NaN        S  \n",
            "22  female  15.0      0      0   330923   8.0292   NaN        Q  \n",
            "24  female   8.0      3      1   349909  21.0750   NaN        S  \n"
          ]
        }
      ]
    },
    {
      "cell_type": "markdown",
      "source": [
        "#####Subsetting Rows by Categorical Variables"
      ],
      "metadata": {
        "id": "chdE9_O41BlD"
      }
    },
    {
      "cell_type": "code",
      "source": [
        "#Filter for Embarked C or S\n",
        "embarked_c_or_s = df[(df['Embarked'] == 'C') | (df['Embarked'] == 'S')]\n",
        "print(embarked_c_or_s.info())\n",
        "print(embarked_c_or_s.head())"
      ],
      "metadata": {
        "colab": {
          "base_uri": "https://localhost:8080/"
        },
        "id": "PQLyJsh70nzy",
        "outputId": "f40897cf-1380-41e4-8ffc-f70a8ae05a28"
      },
      "execution_count": 14,
      "outputs": [
        {
          "output_type": "stream",
          "name": "stdout",
          "text": [
            "<class 'pandas.core.frame.DataFrame'>\n",
            "Index: 812 entries, 0 to 889\n",
            "Data columns (total 12 columns):\n",
            " #   Column       Non-Null Count  Dtype  \n",
            "---  ------       --------------  -----  \n",
            " 0   PassengerId  812 non-null    int64  \n",
            " 1   Survived     812 non-null    int64  \n",
            " 2   Pclass       812 non-null    int64  \n",
            " 3   Name         812 non-null    object \n",
            " 4   Sex          812 non-null    object \n",
            " 5   Age          684 non-null    float64\n",
            " 6   SibSp        812 non-null    int64  \n",
            " 7   Parch        812 non-null    int64  \n",
            " 8   Ticket       812 non-null    object \n",
            " 9   Fare         812 non-null    float64\n",
            " 10  Cabin        198 non-null    object \n",
            " 11  Embarked     812 non-null    object \n",
            "dtypes: float64(2), int64(5), object(5)\n",
            "memory usage: 82.5+ KB\n",
            "None\n",
            "   PassengerId  Survived  Pclass  \\\n",
            "0            1         0       3   \n",
            "1            2         1       1   \n",
            "2            3         1       3   \n",
            "3            4         1       1   \n",
            "4            5         0       3   \n",
            "\n",
            "                                                Name     Sex   Age  SibSp  \\\n",
            "0                            Braund, Mr. Owen Harris    male  22.0      1   \n",
            "1  Cumings, Mrs. John Bradley (Florence Briggs Th...  female  38.0      1   \n",
            "2                             Heikkinen, Miss. Laina  female  26.0      0   \n",
            "3       Futrelle, Mrs. Jacques Heath (Lily May Peel)  female  35.0      1   \n",
            "4                           Allen, Mr. William Henry    male  35.0      0   \n",
            "\n",
            "   Parch            Ticket     Fare Cabin Embarked  \n",
            "0      0         A/5 21171   7.2500   NaN        S  \n",
            "1      0          PC 17599  71.2833   C85        C  \n",
            "2      0  STON/O2. 3101282   7.9250   NaN        S  \n",
            "3      0            113803  53.1000  C123        S  \n",
            "4      0            373450   8.0500   NaN        S  \n"
          ]
        }
      ]
    },
    {
      "cell_type": "code",
      "source": [
        "#Filter for first or second class\n",
        "first_second_class = df[(df['Pclass'] == 1) | (df['Pclass'] == 2)]\n",
        "print(first_second_class.info())\n",
        "print(first_second_class.head())"
      ],
      "metadata": {
        "colab": {
          "base_uri": "https://localhost:8080/"
        },
        "id": "SyjtNbI91jNc",
        "outputId": "d0ed48e2-fb0e-45c3-efaa-18e7e0211c0f"
      },
      "execution_count": 15,
      "outputs": [
        {
          "output_type": "stream",
          "name": "stdout",
          "text": [
            "<class 'pandas.core.frame.DataFrame'>\n",
            "Index: 400 entries, 1 to 889\n",
            "Data columns (total 12 columns):\n",
            " #   Column       Non-Null Count  Dtype  \n",
            "---  ------       --------------  -----  \n",
            " 0   PassengerId  400 non-null    int64  \n",
            " 1   Survived     400 non-null    int64  \n",
            " 2   Pclass       400 non-null    int64  \n",
            " 3   Name         400 non-null    object \n",
            " 4   Sex          400 non-null    object \n",
            " 5   Age          359 non-null    float64\n",
            " 6   SibSp        400 non-null    int64  \n",
            " 7   Parch        400 non-null    int64  \n",
            " 8   Ticket       400 non-null    object \n",
            " 9   Fare         400 non-null    float64\n",
            " 10  Cabin        192 non-null    object \n",
            " 11  Embarked     398 non-null    object \n",
            "dtypes: float64(2), int64(5), object(5)\n",
            "memory usage: 40.6+ KB\n",
            "None\n",
            "    PassengerId  Survived  Pclass  \\\n",
            "1             2         1       1   \n",
            "3             4         1       1   \n",
            "6             7         0       1   \n",
            "9            10         1       2   \n",
            "11           12         1       1   \n",
            "\n",
            "                                                 Name     Sex   Age  SibSp  \\\n",
            "1   Cumings, Mrs. John Bradley (Florence Briggs Th...  female  38.0      1   \n",
            "3        Futrelle, Mrs. Jacques Heath (Lily May Peel)  female  35.0      1   \n",
            "6                             McCarthy, Mr. Timothy J    male  54.0      0   \n",
            "9                 Nasser, Mrs. Nicholas (Adele Achem)  female  14.0      1   \n",
            "11                           Bonnell, Miss. Elizabeth  female  58.0      0   \n",
            "\n",
            "    Parch    Ticket     Fare Cabin Embarked  \n",
            "1       0  PC 17599  71.2833   C85        C  \n",
            "3       0    113803  53.1000  C123        S  \n",
            "6       0     17463  51.8625   E46        S  \n",
            "9       0    237736  30.0708   NaN        C  \n",
            "11      0    113783  26.5500  C103        S  \n"
          ]
        }
      ]
    },
    {
      "cell_type": "markdown",
      "source": [
        "###3.2 Exploratory Data Analysis"
      ],
      "metadata": {
        "id": "myLFdwBJ10Vz"
      }
    },
    {
      "cell_type": "code",
      "source": [
        "# Question 1: Highest fare paid relative to age\n",
        "#Dataframe fare per age\n",
        "df['fare_per_age'] = df['Fare'] / df['Age']\n",
        "print(df['fare_per_age'].head())\n",
        "\n",
        "#Creating high_fare_age where fare_per_age > 5\n",
        "high_fare_age = df[df['fare_per_age'] > 5]\n",
        "\n",
        "#Sorting the fare age in descending order\n",
        "high_fare_age_srt = high_fare_age.sort_values('fare_per_age', ascending=False)\n",
        "\n",
        "#Storing the name and fare_per_age in result\n",
        "result = high_fare_age_srt[['Name','fare_per_age']]\n",
        "print(result)"
      ],
      "metadata": {
        "colab": {
          "base_uri": "https://localhost:8080/"
        },
        "id": "3dyJ0wRd1zkC",
        "outputId": "78d22e88-5df5-4b76-853c-e8bdd18ae554"
      },
      "execution_count": 23,
      "outputs": [
        {
          "output_type": "stream",
          "name": "stdout",
          "text": [
            "0    0.329545\n",
            "1    1.875876\n",
            "2    0.304808\n",
            "3    1.517143\n",
            "4    0.230000\n",
            "Name: fare_per_age, dtype: float64\n",
            "                                       Name  fare_per_age\n",
            "305          Allison, Master. Hudson Trevor    164.728261\n",
            "297            Allison, Miss. Helen Loraine     75.775000\n",
            "386         Goodwin, Master. Sidney Leonard     46.900000\n",
            "164            Panula, Master. Eino Viljami     39.687500\n",
            "183               Becker, Master. Richard F     39.000000\n",
            "..                                      ...           ...\n",
            "318                Wick, Miss. Mary Natalie      5.318281\n",
            "348  Coutts, Master. William Loch \"William\"      5.300000\n",
            "205              Strom, Miss. Telma Matilda      5.231250\n",
            "813      Andersson, Miss. Ebba Iris Alfrida      5.212500\n",
            "480          Goodwin, Master. Harold Victor      5.211111\n",
            "\n",
            "[68 rows x 2 columns]\n"
          ]
        }
      ]
    },
    {
      "cell_type": "code",
      "source": [
        "# Question 2: Highest fare paid by adult male relative to class\n",
        "#Dataframe fare_per_class\n",
        "df['fare_per_class'] = df['Fare'] / df['Pclass']\n",
        "#Subset where sex is male above 18\n",
        "adult_males = df[(df['Age'] >= 18) & (df['Sex'] == 'male')]\n",
        "#Sorted adult_males\n",
        "adult_males_srt = adult_males.sort_values('fare_per_class', ascending=False)\n",
        "#Result where name age and fare per class\n",
        "result = adult_males_srt[['Name','Age','fare_per_class']]\n",
        "print(result)"
      ],
      "metadata": {
        "colab": {
          "base_uri": "https://localhost:8080/"
        },
        "id": "miRe4Y591jMM",
        "outputId": "fed44d2d-a69f-4eda-d707-90595406471e"
      },
      "execution_count": 26,
      "outputs": [
        {
          "output_type": "stream",
          "name": "stdout",
          "text": [
            "                                   Name   Age  fare_per_class\n",
            "737              Lesurer, Mr. Gustave J  35.0        512.3292\n",
            "679  Cardeza, Mr. Thomas Drake Martinez  36.0        512.3292\n",
            "27       Fortune, Mr. Charles Alexander  19.0        263.0000\n",
            "438                   Fortune, Mr. Mark  64.0        263.0000\n",
            "118            Baxter, Mr. Quigg Edmond  24.0        247.5208\n",
            "..                                  ...   ...             ...\n",
            "271        Tornquist, Mr. William Henry  25.0          0.0000\n",
            "179                 Leonard, Mr. Lionel  36.0          0.0000\n",
            "302     Johnson, Mr. William Cahoone Jr  19.0          0.0000\n",
            "822     Reuchlin, Jonkheer. John George  38.0          0.0000\n",
            "806              Andrews, Mr. Thomas Jr  39.0          0.0000\n",
            "\n",
            "[395 rows x 3 columns]\n"
          ]
        }
      ]
    },
    {
      "cell_type": "markdown",
      "source": [
        "###3.3 Exploratory Data Analysis 2"
      ],
      "metadata": {
        "id": "hyfgHW2J8Ch8"
      }
    },
    {
      "cell_type": "code",
      "source": [
        "# Question 1: Percent of total fare revenue from each class\n",
        "total_fare =df[['Fare']].sum();\n",
        "first_class_fare = df[df['Pclass'] == 1][['Fare']].sum();\n",
        "second_class_fare = df[df['Pclass'] == 2][['Fare']].sum();\n",
        "third_class_fare = df[df['Pclass'] == 3][['Fare']].sum();\n",
        "\n",
        "fare_totals =[first_class_fare,second_class_fare,third_class_fare]\n",
        "fare_percentages = [fare / total_fare * 100 for fare in fare_totals]\n",
        "print(fare_percentages)"
      ],
      "metadata": {
        "colab": {
          "base_uri": "https://localhost:8080/"
        },
        "id": "GHuvEdrK1z7Q",
        "outputId": "d6869bdb-f7e6-44e3-9ac8-7e81ac6ff625"
      },
      "execution_count": 28,
      "outputs": [
        {
          "output_type": "stream",
          "name": "stdout",
          "text": [
            "[Fare    63.349288\n",
            "dtype: float64, Fare    13.249629\n",
            "dtype: float64, Fare    23.401084\n",
            "dtype: float64]\n"
          ]
        }
      ]
    },
    {
      "cell_type": "code",
      "source": [
        "# Question 2: Percent of total passengers by age group\n",
        "df['age_group'] = pd.cut(df['Age'], bins=[-1, 17, 64, float('inf')], labels=['child', 'adult', 'senior'])\n",
        "total_passengers = len(df)\n",
        "age_group_counts = df['age_group'].value_counts()\n",
        "age_group_percentages = (age_group_counts / total_passengers) * 100\n",
        "print(age_group_percentages)"
      ],
      "metadata": {
        "colab": {
          "base_uri": "https://localhost:8080/"
        },
        "id": "IIeuHImc1z5j",
        "outputId": "93d3a995-0c5f-4913-b4ae-04ecca2354d0"
      },
      "execution_count": 29,
      "outputs": [
        {
          "output_type": "stream",
          "name": "stdout",
          "text": [
            "age_group\n",
            "adult     66.217733\n",
            "child     12.682379\n",
            "senior     1.234568\n",
            "Name: count, dtype: float64\n"
          ]
        }
      ]
    }
  ],
  "metadata": {
    "colab": {
      "provenance": []
    },
    "kernelspec": {
      "display_name": "Python 3",
      "name": "python3"
    },
    "language_info": {
      "name": "python"
    }
  },
  "nbformat": 4,
  "nbformat_minor": 0
}