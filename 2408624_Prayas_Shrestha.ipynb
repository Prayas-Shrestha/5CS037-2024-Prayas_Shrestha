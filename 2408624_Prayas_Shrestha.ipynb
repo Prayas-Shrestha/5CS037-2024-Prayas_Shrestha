{
  "nbformat": 4,
  "nbformat_minor": 0,
  "metadata": {
    "colab": {
      "provenance": [],
      "collapsed_sections": [
        "yBPFQugZVs2O",
        "fHSaBhmnVyiv"
      ],
      "authorship_tag": "ABX9TyOOmkKJBYmDEvWhP78r/2xq",
      "include_colab_link": true
    },
    "kernelspec": {
      "name": "python3",
      "display_name": "Python 3"
    },
    "language_info": {
      "name": "python"
    }
  },
  "cells": [
    {
      "cell_type": "markdown",
      "metadata": {
        "id": "view-in-github",
        "colab_type": "text"
      },
      "source": [
        "<a href=\"https://colab.research.google.com/github/Prayas-Shrestha/5CS037-2024-Prayas_Shrestha/blob/main/2408624_Prayas_Shrestha.ipynb\" target=\"_parent\"><img src=\"https://colab.research.google.com/assets/colab-badge.svg\" alt=\"Open In Colab\"/></a>"
      ]
    },
    {
      "cell_type": "markdown",
      "source": [
        "##PROBLEM 1 - Array Creation:"
      ],
      "metadata": {
        "id": "yBPFQugZVs2O"
      }
    },
    {
      "cell_type": "code",
      "source": [
        "#Question 1\n",
        "import numpy as np\n",
        "empty_array = np.empty((2,2))\n",
        "print(empty_array)\n",
        "print()"
      ],
      "metadata": {
        "colab": {
          "base_uri": "https://localhost:8080/"
        },
        "id": "7O4bbFl0TKnT",
        "outputId": "c03ef5c1-be5c-4660-feb6-3148f5bb9d7d"
      },
      "execution_count": null,
      "outputs": [
        {
          "output_type": "stream",
          "name": "stdout",
          "text": [
            "[[4.94510162e-310 0.00000000e+000]\n",
            " [0.00000000e+000 6.63271684e-310]]\n",
            "\n"
          ]
        }
      ]
    },
    {
      "cell_type": "code",
      "source": [
        "#Question 2\n",
        "ones_array = np.ones((4,2))\n",
        "print(ones_array)\n",
        "print()"
      ],
      "metadata": {
        "colab": {
          "base_uri": "https://localhost:8080/"
        },
        "id": "X0lufgdeVV6o",
        "outputId": "9b87d544-387c-4e16-f2fd-0ce6a50f2b9a"
      },
      "execution_count": null,
      "outputs": [
        {
          "output_type": "stream",
          "name": "stdout",
          "text": [
            "[[1. 1.]\n",
            " [1. 1.]\n",
            " [1. 1.]\n",
            " [1. 1.]]\n",
            "\n"
          ]
        }
      ]
    },
    {
      "cell_type": "code",
      "source": [
        "#Question 3\n",
        "full_array = np.full((3,2),10)\n",
        "print(full_array)\n",
        "print()"
      ],
      "metadata": {
        "colab": {
          "base_uri": "https://localhost:8080/"
        },
        "id": "YXp5R3OaVYoz",
        "outputId": "78d39f8a-2364-4706-fa52-e089e17cbada"
      },
      "execution_count": null,
      "outputs": [
        {
          "output_type": "stream",
          "name": "stdout",
          "text": [
            "[[10 10]\n",
            " [10 10]\n",
            " [10 10]]\n",
            "\n"
          ]
        }
      ]
    },
    {
      "cell_type": "code",
      "source": [
        "#Question 4\n",
        "zeros_like_array = np.zeros_like(full_array)\n",
        "print(zeros_like_array)\n",
        "print()\n"
      ],
      "metadata": {
        "colab": {
          "base_uri": "https://localhost:8080/"
        },
        "id": "ISW-9LpHVaf9",
        "outputId": "dc949b01-7f1c-4c7c-bab2-b0b203ca62c6"
      },
      "execution_count": null,
      "outputs": [
        {
          "output_type": "stream",
          "name": "stdout",
          "text": [
            "[[0 0]\n",
            " [0 0]\n",
            " [0 0]]\n",
            "\n"
          ]
        }
      ]
    },
    {
      "cell_type": "code",
      "source": [
        "#Question 5\n",
        "ones_like_array = np.ones_like(full_array)\n",
        "print(ones_like_array)\n",
        "print()"
      ],
      "metadata": {
        "colab": {
          "base_uri": "https://localhost:8080/"
        },
        "id": "FZulKdQaVeLq",
        "outputId": "7e45240f-0afb-4175-ff00-3d02ae3e2554"
      },
      "execution_count": null,
      "outputs": [
        {
          "output_type": "stream",
          "name": "stdout",
          "text": [
            "[[1 1]\n",
            " [1 1]\n",
            " [1 1]]\n",
            "\n"
          ]
        }
      ]
    },
    {
      "cell_type": "code",
      "source": [
        "#Question 6\n",
        "new_list = [1,2,3,4]\n",
        "array_from_list = np.array(new_list)\n",
        "print(array_from_list)\n",
        "print()"
      ],
      "metadata": {
        "colab": {
          "base_uri": "https://localhost:8080/"
        },
        "id": "4gWebjo6Vl2_",
        "outputId": "bf5f88d5-2177-4fef-f566-8c9eb7bff2e1"
      },
      "execution_count": null,
      "outputs": [
        {
          "output_type": "stream",
          "name": "stdout",
          "text": [
            "[1 2 3 4]\n",
            "\n"
          ]
        }
      ]
    },
    {
      "cell_type": "markdown",
      "source": [
        "##PROBLEM 2 - Array Manipulation: Numerical Ranges and Array indexing:"
      ],
      "metadata": {
        "id": "fHSaBhmnVyiv"
      }
    },
    {
      "cell_type": "code",
      "source": [
        "#Question 1\n",
        "new_array = np.arange(10,50)\n",
        "print(new_array)\n",
        "print()"
      ],
      "metadata": {
        "colab": {
          "base_uri": "https://localhost:8080/"
        },
        "id": "FO0UEwByVnR-",
        "outputId": "45b7e669-47f8-4842-d8f4-fc615b5bf89f"
      },
      "execution_count": null,
      "outputs": [
        {
          "output_type": "stream",
          "name": "stdout",
          "text": [
            "[10 11 12 13 14 15 16 17 18 19 20 21 22 23 24 25 26 27 28 29 30 31 32 33\n",
            " 34 35 36 37 38 39 40 41 42 43 44 45 46 47 48 49]\n",
            "\n"
          ]
        }
      ]
    },
    {
      "cell_type": "code",
      "source": [
        "#Question 2\n",
        "reshape_array = np.arange(0,9).reshape(3,3)\n",
        "print(reshape_array)"
      ],
      "metadata": {
        "colab": {
          "base_uri": "https://localhost:8080/"
        },
        "id": "BVc87q-YWJ3_",
        "outputId": "c7205fc6-9546-44e1-9d36-1e80216adb10"
      },
      "execution_count": null,
      "outputs": [
        {
          "output_type": "stream",
          "name": "stdout",
          "text": [
            "[[0 1 2]\n",
            " [3 4 5]\n",
            " [6 7 8]]\n"
          ]
        }
      ]
    },
    {
      "cell_type": "code",
      "source": [
        "#Question 3\n",
        "id_array = np.eye(3,3)\n",
        "print(id_array)"
      ],
      "metadata": {
        "colab": {
          "base_uri": "https://localhost:8080/"
        },
        "id": "uAAH4U_TWZwt",
        "outputId": "d3e8062a-bd07-489f-ab2c-655eecc3a2cb"
      },
      "execution_count": null,
      "outputs": [
        {
          "output_type": "stream",
          "name": "stdout",
          "text": [
            "[[1. 0. 0.]\n",
            " [0. 1. 0.]\n",
            " [0. 0. 1.]]\n"
          ]
        }
      ]
    },
    {
      "cell_type": "code",
      "source": [
        "#Question 4\n",
        "random_array = np.random.random(size = 30)\n",
        "print(random_array)\n",
        "print()\n",
        "mean = np.mean(random_array)\n",
        "print(\"Mean: \",mean)"
      ],
      "metadata": {
        "colab": {
          "base_uri": "https://localhost:8080/"
        },
        "id": "voPetOKgWqNz",
        "outputId": "dd464760-ce30-48e1-9661-e33f95e4ae43"
      },
      "execution_count": null,
      "outputs": [
        {
          "output_type": "stream",
          "name": "stdout",
          "text": [
            "[0.73747921 0.00598072 0.65998226 0.51974173 0.53708164 0.28718809\n",
            " 0.60560759 0.95069563 0.89208174 0.79312257 0.5219802  0.33206385\n",
            " 0.35886042 0.6203678  0.9960837  0.47848919 0.67572631 0.49800566\n",
            " 0.73509313 0.63574913 0.39203166 0.28743894 0.34019786 0.59305207\n",
            " 0.48392389 0.46309    0.04879386 0.34503431 0.06077481 0.45268323]\n",
            "\n",
            "Mean:  0.5102800398587589\n"
          ]
        }
      ]
    },
    {
      "cell_type": "code",
      "source": [
        "#Question 5\n",
        "random_array = np.random.random((10,10))\n",
        "print(random_array)\n",
        "print()\n",
        "min = np.min(random_array)\n",
        "max = np.max(random_array)\n",
        "print(\"Min: \",min)\n",
        "print(\"Max: \",max)"
      ],
      "metadata": {
        "colab": {
          "base_uri": "https://localhost:8080/"
        },
        "id": "ppjZFVA4XPBc",
        "outputId": "af8767fe-8147-4409-eb49-0b3ab02fd099"
      },
      "execution_count": null,
      "outputs": [
        {
          "output_type": "stream",
          "name": "stdout",
          "text": [
            "[[0.35829686 0.87957932 0.31013073 0.57693216 0.89138218 0.51930882\n",
            "  0.93137418 0.69691764 0.86475896 0.65872326]\n",
            " [0.12049597 0.40937888 0.68467091 0.99970067 0.32660765 0.84087783\n",
            "  0.19510658 0.2516181  0.58892592 0.56570092]\n",
            " [0.07675921 0.10536872 0.25762773 0.60376564 0.4376579  0.06598748\n",
            "  0.00432904 0.88170242 0.66342724 0.93141467]\n",
            " [0.72223412 0.23510654 0.75149624 0.66385479 0.92000404 0.30754824\n",
            "  0.35428122 0.15520244 0.62563501 0.29378959]\n",
            " [0.04886322 0.03251185 0.59674973 0.87901367 0.06169091 0.93344162\n",
            "  0.20772197 0.73890913 0.34700269 0.81837121]\n",
            " [0.55346077 0.77426409 0.46203417 0.38956991 0.21349916 0.20761632\n",
            "  0.64589269 0.59260097 0.84397791 0.74968091]\n",
            " [0.5948617  0.98946403 0.74633314 0.79868293 0.42411388 0.91742737\n",
            "  0.67940032 0.81604786 0.95283717 0.15461441]\n",
            " [0.44220346 0.44909256 0.86592639 0.71076528 0.74060133 0.40721526\n",
            "  0.4678082  0.82718486 0.70376466 0.00199802]\n",
            " [0.69487391 0.95662311 0.94056866 0.34320225 0.18108406 0.76455196\n",
            "  0.62724245 0.45334497 0.89389047 0.61955034]\n",
            " [0.799455   0.01920134 0.07470658 0.97995567 0.13210604 0.02517195\n",
            "  0.35245104 0.59054169 0.51217686 0.02050969]]\n",
            "\n",
            "Min:  0.0019980216667966344\n",
            "Max:  0.9997006682595505\n"
          ]
        }
      ]
    },
    {
      "cell_type": "code",
      "source": [
        "#Question 6\n",
        "zero_array = np.zeros (10)\n",
        "print(zero_array)\n",
        "print()\n",
        "zero_array[4] = 1\n",
        "print(zero_array)"
      ],
      "metadata": {
        "colab": {
          "base_uri": "https://localhost:8080/"
        },
        "id": "Wt6XkzK8Xuq-",
        "outputId": "b1998e8a-bf31-4e4a-aa27-9ccc44aac280"
      },
      "execution_count": null,
      "outputs": [
        {
          "output_type": "stream",
          "name": "stdout",
          "text": [
            "[0. 0. 0. 0. 0. 0. 0. 0. 0. 0.]\n",
            "\n",
            "[0. 0. 0. 0. 1. 0. 0. 0. 0. 0.]\n"
          ]
        }
      ]
    },
    {
      "cell_type": "code",
      "source": [
        "#Question 7\n",
        "arr = np.array([1,2,0,0,4,0])\n",
        "reverse_arr = np.flip(arr)\n",
        "print(\"Reversed array:\",reverse_arr)"
      ],
      "metadata": {
        "colab": {
          "base_uri": "https://localhost:8080/"
        },
        "id": "HmewDdQiYSF2",
        "outputId": "b282e78e-5345-4f0f-bc1e-81eed96e00d7"
      },
      "execution_count": null,
      "outputs": [
        {
          "output_type": "stream",
          "name": "stdout",
          "text": [
            "Reversed array: [0 4 0 0 2 1]\n"
          ]
        }
      ]
    },
    {
      "cell_type": "code",
      "source": [
        "#Question 8\n",
        "twod_array = np.zeros((5,5),dtype = int)\n",
        "\n",
        "twod_array[0, :] = 1\n",
        "twod_array[-1, :] = 1\n",
        "twod_array[:, 0] = 1\n",
        "twod_array[:, -1] = 1\n",
        "\n",
        "print(twod_array)"
      ],
      "metadata": {
        "colab": {
          "base_uri": "https://localhost:8080/"
        },
        "id": "yWmb4_yqY--p",
        "outputId": "1ee1c674-743d-47a1-c1ce-c2cc05d6684a"
      },
      "execution_count": null,
      "outputs": [
        {
          "output_type": "stream",
          "name": "stdout",
          "text": [
            "[[1 1 1 1 1]\n",
            " [1 0 0 0 1]\n",
            " [1 0 0 0 1]\n",
            " [1 0 0 0 1]\n",
            " [1 1 1 1 1]]\n"
          ]
        }
      ]
    },
    {
      "cell_type": "code",
      "source": [
        "#Question 9\n",
        "checkerboard = np.zeros(8*8,dtype = int)\n",
        "checkerboard[1::2] = 1\n",
        "checkerboard[::2] = 0\n",
        "checkerboard = checkerboard.reshape(8,8)\n",
        "print(checkerboard)"
      ],
      "metadata": {
        "colab": {
          "base_uri": "https://localhost:8080/"
        },
        "id": "EWW3cYNnah54",
        "outputId": "60e67320-f469-4101-d94a-cce6123a3bf4"
      },
      "execution_count": null,
      "outputs": [
        {
          "output_type": "stream",
          "name": "stdout",
          "text": [
            "[[0 1 0 1 0 1 0 1]\n",
            " [0 1 0 1 0 1 0 1]\n",
            " [0 1 0 1 0 1 0 1]\n",
            " [0 1 0 1 0 1 0 1]\n",
            " [0 1 0 1 0 1 0 1]\n",
            " [0 1 0 1 0 1 0 1]\n",
            " [0 1 0 1 0 1 0 1]\n",
            " [0 1 0 1 0 1 0 1]]\n"
          ]
        }
      ]
    },
    {
      "cell_type": "markdown",
      "source": [
        "##Problem 3 - Array Operations"
      ],
      "metadata": {
        "id": "kjxLWwMpbc1y"
      }
    },
    {
      "cell_type": "code",
      "source": [
        "#Array Initialization\n",
        "x = np.array([[1,2],[3,5]])\n",
        "y = np.array([[5,6],[7,8]])\n",
        "v = np.array([9,10])\n",
        "w = np.array([11,12])\n",
        "\n",
        "#Question 1\n",
        "sum1 = np.add(x,y)\n",
        "print(\"Sum of x and y: \",sum1)\n",
        "print()\n",
        "\n",
        "sum2 = np.add(v,w)\n",
        "print(\"Sum of v and w: \",sum2)"
      ],
      "metadata": {
        "colab": {
          "base_uri": "https://localhost:8080/"
        },
        "id": "76gh-S-SbwZL",
        "outputId": "ae8ddc7b-3713-4a3e-a02e-749804c74efd"
      },
      "execution_count": null,
      "outputs": [
        {
          "output_type": "stream",
          "name": "stdout",
          "text": [
            "Sum of x and y:  [[ 6  8]\n",
            " [10 13]]\n",
            "\n",
            "Sum of v and w:  [20 22]\n"
          ]
        }
      ]
    },
    {
      "cell_type": "code",
      "source": [
        "#Question 2\n",
        "diff1 = np.subtract(x,y)\n",
        "print(\"Difference of x and y: \\n\",diff1)\n",
        "print()\n",
        "\n",
        "diff2 = np.subtract(v,w)\n",
        "print(\"Difference of v and w: \",diff2)"
      ],
      "metadata": {
        "colab": {
          "base_uri": "https://localhost:8080/"
        },
        "id": "VK45i0UTcUQ7",
        "outputId": "531cb149-aefa-4399-9eff-fc7593b99887"
      },
      "execution_count": null,
      "outputs": [
        {
          "output_type": "stream",
          "name": "stdout",
          "text": [
            "Difference of x and y: \n",
            " [[-4 -4]\n",
            " [-4 -3]]\n",
            "\n",
            "Difference of v and w:  [-2 -2]\n"
          ]
        }
      ]
    },
    {
      "cell_type": "code",
      "source": [
        "#Question 3\n",
        "prod = np.multiply(x,4)\n",
        "print(\"Product of x and 4: \\n\",prod)\n",
        "print()\n",
        "\n",
        "prod2 = np.multiply(x,y)\n",
        "print(\"Product of x and y: \\n\",prod2)\n",
        "print()\n",
        "\n",
        "prod3 = np.multiply(v,w)\n",
        "print(\"Product of v and w: \",prod3)\n",
        "\n"
      ],
      "metadata": {
        "colab": {
          "base_uri": "https://localhost:8080/"
        },
        "id": "9KXDjHz4c6d8",
        "outputId": "31dbdb7c-f6bc-4f77-e20b-964bd086c595"
      },
      "execution_count": null,
      "outputs": [
        {
          "output_type": "stream",
          "name": "stdout",
          "text": [
            "Product of x and 4: \n",
            " [[ 4  8]\n",
            " [12 20]]\n",
            "\n",
            "Product of x and y: \n",
            " [[ 5 12]\n",
            " [21 40]]\n",
            "\n",
            "Product of v and w:  [ 99 120]\n"
          ]
        }
      ]
    },
    {
      "cell_type": "code",
      "source": [
        "#Question 4\n",
        "sqr_x = np.power(x,2)\n",
        "print(\"Power of x: \\n\",sqr_x)\n",
        "print(sqr_x)\n",
        "print()\n",
        "\n",
        "sqr_v = np.power(v,2)\n",
        "print(\"Power of v: \",sqr_v)\n",
        "print()\n",
        "\n",
        "sqr_y = np.power(y,2)\n",
        "print(\"Power of y: \\n\",sqr_y)\n",
        "print()\n",
        "\n",
        "sqr_w = np.power(w,2)\n",
        "print(\"Power of w: \",sqr_w)"
      ],
      "metadata": {
        "colab": {
          "base_uri": "https://localhost:8080/"
        },
        "id": "RsTgGjm1dnsp",
        "outputId": "62327a83-5168-4d4c-9f74-6a1b5fcb5360"
      },
      "execution_count": null,
      "outputs": [
        {
          "output_type": "stream",
          "name": "stdout",
          "text": [
            "Power of x: \n",
            " [[ 1  4]\n",
            " [ 9 25]]\n",
            "[[ 1  4]\n",
            " [ 9 25]]\n",
            "\n",
            "Power of v:  [ 81 100]\n",
            "\n",
            "Power of y: \n",
            " [[25 36]\n",
            " [49 64]]\n",
            "\n",
            "Power of w:  [121 144]\n"
          ]
        }
      ]
    },
    {
      "cell_type": "code",
      "source": [
        "#Question 5\n",
        "rows = np.concatenate((x,y),axis = 0)\n",
        "print(rows)\n",
        "print()\n",
        "\n",
        "cols = np.concatenate((x,y),axis = 1)\n",
        "print(cols)"
      ],
      "metadata": {
        "id": "KMOoMolpAreW",
        "colab": {
          "base_uri": "https://localhost:8080/"
        },
        "outputId": "92426d8e-0159-41c0-d1fd-d8cbc96cd3b0"
      },
      "execution_count": null,
      "outputs": [
        {
          "output_type": "stream",
          "name": "stdout",
          "text": [
            "[[1 2]\n",
            " [3 5]\n",
            " [5 6]\n",
            " [7 8]]\n",
            "\n",
            "[[1 2 5 6]\n",
            " [3 5 7 8]]\n"
          ]
        }
      ]
    },
    {
      "cell_type": "code",
      "source": [
        "#Question 6\n",
        "rows = np.concatenate((x,v),axis=0)\n",
        "print(rows)\n",
        "print()\n",
        "\n",
        "cols = np.concatenate((x,v),axis=1)\n",
        "print(cols)\n"
      ],
      "metadata": {
        "id": "etmkP4GgD74I"
      },
      "execution_count": null,
      "outputs": []
    },
    {
      "cell_type": "markdown",
      "source": [
        "Observation:\n",
        "\n",
        "ValueError: all the input arrays must have same number of dimensions, but the array at index 0 has 2 dimension(s) and the array at index 1 has 1 dimension(s)"
      ],
      "metadata": {
        "id": "Xn7KKCaRD47h"
      }
    },
    {
      "cell_type": "markdown",
      "source": [
        "##4. Matrix Operations"
      ],
      "metadata": {
        "id": "xvk3dQ9pCuaV"
      }
    },
    {
      "cell_type": "code",
      "source": [
        "#Question 1\n",
        "import numpy as np\n",
        "A = np.array([[3,4],[7,8]])\n",
        "B = np.array([[5,3],[2,1]])\n",
        "#Prove A.A−1 = I.\n",
        "A_inv = np.linalg.inv(A)\n",
        "I = np.dot(A,A_inv)\n",
        "print(I)"
      ],
      "metadata": {
        "id": "_uHEj0rCDz7I",
        "colab": {
          "base_uri": "https://localhost:8080/"
        },
        "outputId": "b9e57b42-c0ed-4014-ae29-570872489074"
      },
      "execution_count": 5,
      "outputs": [
        {
          "output_type": "stream",
          "name": "stdout",
          "text": [
            "[[1.00000000e+00 0.00000000e+00]\n",
            " [1.77635684e-15 1.00000000e+00]]\n"
          ]
        }
      ]
    },
    {
      "cell_type": "code",
      "source": [
        "#Question 2\n",
        "#AB != BA\n",
        "AB = np.matmul(A,B)\n",
        "print(\"AB:\\n\",AB)\n",
        "print()\n",
        "BA = np.matmul(B,A)\n",
        "print(\"BA:\\n\",BA)"
      ],
      "metadata": {
        "colab": {
          "base_uri": "https://localhost:8080/"
        },
        "id": "0dnvIHRdNslB",
        "outputId": "e815bfce-e447-4bf0-dab1-db1371b0b699"
      },
      "execution_count": 9,
      "outputs": [
        {
          "output_type": "stream",
          "name": "stdout",
          "text": [
            "AB:\n",
            " [[23 13]\n",
            " [51 29]]\n",
            "\n",
            "BA:\n",
            " [[36 44]\n",
            " [13 16]]\n"
          ]
        }
      ]
    },
    {
      "cell_type": "code",
      "source": [
        "#Question 3\n",
        "#(AB)T = BT.AT\n",
        "AB = np.matmul(A,B)\n",
        "AB_T = AB.T\n",
        "print(\"AB_T:\\n\",AB_T)\n",
        "print()\n",
        "B_T = B.T\n",
        "A_T = A.T\n",
        "BT_AT = np.matmul(B_T,A_T)\n",
        "print(\"BT_AT:\\n\",BT_AT)"
      ],
      "metadata": {
        "colab": {
          "base_uri": "https://localhost:8080/"
        },
        "id": "kcJ3S4p-N4yu",
        "outputId": "ea9b8d9c-8384-48d2-9326-b82394bd89cc"
      },
      "execution_count": 15,
      "outputs": [
        {
          "output_type": "stream",
          "name": "stdout",
          "text": [
            "AB_T:\n",
            " [[29 36]\n",
            " [16 20]]\n",
            "\n",
            "BT_AT:\n",
            " [[29 36]\n",
            " [16 20]]\n"
          ]
        }
      ]
    },
    {
      "cell_type": "code",
      "source": [
        "#Question 4\n",
        "\"\"\"\n",
        "\n",
        "Solve for\n",
        "2x − 3y + z = −1\n",
        "x − y + 2z = −3\n",
        "3x + y − z = 9\n",
        "\n",
        "\"\"\"\n",
        "\n",
        "A = np.array([[2, -3, 1],\n",
        "              [1, -1, 2],\n",
        "              [3,  1, -1]])\n",
        "\n",
        "B = np.array([-1,-3,9])\n",
        "\n",
        "A_inv = np.linalg.inv(A)\n",
        "\n",
        "X = np.dot(A_inv,B)\n",
        "\n",
        "print(\"Solution for X (x,y,z):\", X)"
      ],
      "metadata": {
        "colab": {
          "base_uri": "https://localhost:8080/"
        },
        "id": "E0MTw0MkPVYo",
        "outputId": "cee59300-1264-4dae-aa92-4904128ed761"
      },
      "execution_count": 18,
      "outputs": [
        {
          "output_type": "stream",
          "name": "stdout",
          "text": [
            "Solution for X (x,y,z): [ 2.  1. -2.]\n"
          ]
        }
      ]
    }
  ]
}