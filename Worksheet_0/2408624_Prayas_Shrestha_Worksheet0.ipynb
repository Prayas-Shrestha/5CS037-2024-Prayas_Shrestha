{
  "nbformat": 4,
  "nbformat_minor": 0,
  "metadata": {
    "colab": {
      "provenance": []
    },
    "kernelspec": {
      "name": "python3",
      "display_name": "Python 3"
    },
    "language_info": {
      "name": "python"
    }
  },
  "cells": [
    {
      "cell_type": "code",
      "execution_count": 1,
      "metadata": {
        "id": "oPlz125yH53m",
        "colab": {
          "base_uri": "https://localhost:8080/"
        },
        "outputId": "9f23ac2f-c938-4f17-f4e6-30d86d532ae2"
      },
      "outputs": [
        {
          "output_type": "stream",
          "name": "stdout",
          "text": [
            "[5]\n",
            "[10]\n",
            "[25, 20, 25, 30]\n"
          ]
        }
      ],
      "source": [
        "#Question 1\n",
        "\n",
        "cold = []\n",
        "mild = []\n",
        "comfortable = []\n",
        "\n",
        "temperature = [5,10,25,20,25,30]\n",
        "\n",
        "for temp in temperature:\n",
        "  if temp < 10:\n",
        "    cold.append(temp)\n",
        "  elif 10 <= temp <= 15:\n",
        "    mild.append(temp)\n",
        "  else:\n",
        "    comfortable.append(temp)\n",
        "\n",
        "print(cold)\n",
        "print(mild)\n",
        "print(comfortable)\n"
      ]
    },
    {
      "cell_type": "code",
      "source": [
        "#Question 2\n",
        "times_mild = len(mild)\n",
        "times_cold = len(cold)\n",
        "times_comfortable = len(comfortable)\n",
        "\n",
        "print(times_mild)\n",
        "print(times_cold)\n",
        "print(times_comfortable)"
      ],
      "metadata": {
        "colab": {
          "base_uri": "https://localhost:8080/"
        },
        "id": "YR8vs8vwVGAk",
        "outputId": "a52cf9ac-ae0f-4d61-83dc-881057935c9c"
      },
      "execution_count": 2,
      "outputs": [
        {
          "output_type": "stream",
          "name": "stdout",
          "text": [
            "1\n",
            "1\n",
            "4\n"
          ]
        }
      ]
    },
    {
      "cell_type": "code",
      "source": [
        "#Question 3\n",
        "temperature = [13,37,32,100]\n",
        "temperatures_fahrenheit = []\n",
        "for temp in temperature:\n",
        "  temp_fahrenheit = (temp * 9/5) + 32\n",
        "  temperatures_fahrenheit.append(temp_fahrenheit)\n",
        "\n",
        "print(\"The temperature in fahrenheit:\",temperatures_fahrenheit)\n"
      ],
      "metadata": {
        "colab": {
          "base_uri": "https://localhost:8080/"
        },
        "id": "KvaADtf2VWL_",
        "outputId": "03bc0d34-cdd8-4888-8b33-06546f6f0a2c"
      },
      "execution_count": null,
      "outputs": [
        {
          "output_type": "stream",
          "name": "stdout",
          "text": [
            "The temperature in fahrenheit: [55.4, 98.6, 89.6, 212.0]\n"
          ]
        }
      ]
    },
    {
      "cell_type": "code",
      "source": [
        "#Question 4\n",
        "night = []\n",
        "day = []\n",
        "evening = []\n",
        "\n",
        "temperature = [17, 2, 20, 8, 14, 5, 23, 10, 7, 3, 19, 9, 22, 13, 12, 0, 4, 18, 15, 11, 6, 16, 1, 21]\n",
        "for temp in temperature:\n",
        "  if 0 <= temp < 8:\n",
        "    night.append(temp)\n",
        "  elif 8 <= temp < 16:\n",
        "    day.append(temp)\n",
        "  else:\n",
        "    evening.append(temp)\n",
        "\n",
        "if day:\n",
        "  avg_day_temp = sum(day) / len(day)\n",
        "  print(\"Average temperature during the day:\", avg_day_temp)\n",
        "else:\n",
        "  print(\"No temperature data available during the day.\")\n",
        "\n",
        "print(night)\n",
        "print(day)\n",
        "print(evening)"
      ],
      "metadata": {
        "colab": {
          "base_uri": "https://localhost:8080/"
        },
        "id": "g-qxmQFXVvIy",
        "outputId": "0208c083-81db-473a-c14f-873c6107e760"
      },
      "execution_count": null,
      "outputs": [
        {
          "output_type": "stream",
          "name": "stdout",
          "text": [
            "Average temperature during the day: 11.5\n",
            "[2, 5, 7, 3, 0, 4, 6, 1]\n",
            "[8, 14, 10, 9, 13, 12, 15, 11]\n",
            "[17, 20, 23, 19, 22, 18, 16, 21]\n"
          ]
        }
      ]
    },
    {
      "cell_type": "code",
      "source": [
        "#Q5\n",
        "def sum_nested_list(nested_list):\n",
        "  total = 0\n",
        "  for element in nested_list:\n",
        "    if isinstance(element, list): # Check if the element is a list\n",
        "      total += sum_nested_list(element) # Recursively sum the nested list\n",
        "    else:\n",
        "      total += element # Add the number to the total\n",
        "  return total\n",
        "\n",
        "print(sum_nested_list([1, [2, [3, 4], 5], 6, [7, 8]]))"
      ],
      "metadata": {
        "colab": {
          "base_uri": "https://localhost:8080/"
        },
        "id": "4-wrN5R7aAik",
        "outputId": "29eba14c-ab88-4869-9368-a5898839c2b1"
      },
      "execution_count": null,
      "outputs": [
        {
          "output_type": "stream",
          "name": "stdout",
          "text": [
            "36\n"
          ]
        }
      ]
    },
    {
      "cell_type": "code",
      "source": [
        "#Q6\n",
        "def generate_permutations(string):\n",
        "  if len(string) == 1:\n",
        "    return [string]\n",
        "  permutations = []\n",
        "  for i in range(len(string)):\n",
        "    char = string[i]\n",
        "    remaining_chars = string[:i] + string[i+1:]\n",
        "    for perm in generate_permutations(remaining_chars):\n",
        "      permutations.append(char + perm)\n",
        "  return permutations\n",
        "\n",
        "string = \"abc\"\n",
        "permutations = generate_permutations(string)\n",
        "print(permutations)"
      ],
      "metadata": {
        "colab": {
          "base_uri": "https://localhost:8080/"
        },
        "id": "p0qNv6n_cPnM",
        "outputId": "15bc2e94-4d9e-4e26-8264-4580c9d905ee"
      },
      "execution_count": null,
      "outputs": [
        {
          "output_type": "stream",
          "name": "stdout",
          "text": [
            "['abc', 'acb', 'bac', 'bca', 'cab', 'cba']\n"
          ]
        }
      ]
    },
    {
      "cell_type": "code",
      "source": [
        "#Q7\n",
        "def calculate_directory_size(directory):\n",
        "  total_size = 0\n",
        "  for item,value in directory.items():\n",
        "    if isinstance(value, dict):\n",
        "      total_size += calculate_directory_size(value)\n",
        "    else:\n",
        "      total_size += value\n",
        "  return total_size\n",
        "\n",
        "directory_structure = {\n",
        "    \"file1.txt\": 200,\n",
        "    \"file2.txt\": 300,\n",
        "    \"subdir1\": {\n",
        "        \"file3.txt\": 400,\n",
        "        \"file4.txt\": 100\n",
        "    },\n",
        "    \"subdir2\": {\n",
        "        \"subsubdir1\": {\n",
        "            \"file5.txt\": 250\n",
        "        },\n",
        "        \"file6.txt\": 150\n",
        "    }\n",
        "}\n",
        "\n",
        "total_size = calculate_directory_size(directory_structure)\n",
        "print(total_size)"
      ],
      "metadata": {
        "colab": {
          "base_uri": "https://localhost:8080/"
        },
        "id": "pceKc-EkcQFA",
        "outputId": "6041c9bb-0de0-4592-c814-cff931a1ed76"
      },
      "execution_count": null,
      "outputs": [
        {
          "output_type": "stream",
          "name": "stdout",
          "text": [
            "1400\n"
          ]
        }
      ]
    },
    {
      "cell_type": "code",
      "source": [
        "def min_coins(coins, amount):\n",
        "    \"\"\"\n",
        "    Finds the minimum number of coins needed to make up a given amount using dynamic programming.\n",
        "\n",
        "    Parameters:\n",
        "    coins (list of int): List of coin denominations.\n",
        "    amount (int): The target amount.\n",
        "\n",
        "    Returns:\n",
        "    int: Minimum number of coins required, or -1 if it is not possible.\n",
        "    \"\"\"\n",
        "    # Initialize a DP table with 'infinity' for all amounts, except dp[0] which is 0\n",
        "    dp = [float('inf')] * (amount + 1)\n",
        "    dp[0] = 0  # Base case: 0 coins needed to make amount 0\n",
        "\n",
        "    # Loop through each coin\n",
        "    for coin in coins:\n",
        "        # Update the DP table for each amount that can include this coin\n",
        "        for i in range(coin, amount + 1):\n",
        "            dp[i] = min(dp[i], dp[i - coin] + 1)\n",
        "\n",
        "    # If dp[amount] is still infinity, it means the amount cannot be made with the coins\n",
        "    return dp[amount] if dp[amount] != float('inf') else -1\n",
        "\n",
        "print(min_coins([1, 2, 5], 11))\n",
        "print(min_coins([2], 3))\n"
      ],
      "metadata": {
        "colab": {
          "base_uri": "https://localhost:8080/"
        },
        "id": "F2IdlL02syG4",
        "outputId": "ee785580-0aa4-49a4-e4f1-77e5aa169366"
      },
      "execution_count": null,
      "outputs": [
        {
          "output_type": "stream",
          "name": "stdout",
          "text": [
            "3\n",
            "-1\n"
          ]
        }
      ]
    },
    {
      "cell_type": "code",
      "source": [
        "def longest_common_subsequence(s1, s2):\n",
        "    # Create a 2D table with (len(s1)+1) rows and (len(s2)+1) columns\n",
        "    dp = [[0] * (len(s2) + 1) for _ in range(len(s1) + 1)]\n",
        "\n",
        "    # Fill the table\n",
        "    for i in range(1, len(s1) + 1):  # Loop through all characters of s1\n",
        "        for j in range(1, len(s2) + 1):  # Loop through all characters of s2\n",
        "            if s1[i - 1] == s2[j - 1]:  # If the characters match\n",
        "                dp[i][j] = dp[i - 1][j - 1] + 1\n",
        "            else:  # Otherwise, take the maximum LCS from the previous rows/columns\n",
        "                dp[i][j] = max(dp[i - 1][j], dp[i][j - 1])\n",
        "\n",
        "    return dp[len(s1)][len(s2)]  # The LCS length is in the bottom-right corner\n",
        "\n",
        "s1 = \"abcde\"\n",
        "s2 = \"ace\"\n",
        "print(\"Length of LCS:\", longest_common_subsequence(s1, s2))"
      ],
      "metadata": {
        "colab": {
          "base_uri": "https://localhost:8080/"
        },
        "id": "eqfYsJDqaTgY",
        "outputId": "30380d0d-afa3-4c42-ccf1-e37421847dd9"
      },
      "execution_count": null,
      "outputs": [
        {
          "output_type": "stream",
          "name": "stdout",
          "text": [
            "Length of LCS: 3\n"
          ]
        }
      ]
    },
    {
      "cell_type": "code",
      "source": [
        "def knapsack(weights, values, capacity):\n",
        "    n = len(weights)  # Number of items\n",
        "    # Create a DP table with dimensions (n+1) x (capacity+1)\n",
        "    dp = [[0] * (capacity + 1) for _ in range(n + 1)]\n",
        "\n",
        "    # Fill the DP table\n",
        "    for i in range(1, n + 1):  # Iterate over items\n",
        "        for w in range(1, capacity + 1):  # Iterate over weight limits\n",
        "            if weights[i - 1] <= w:  # Current item can fit in the bag\n",
        "                dp[i][w] = max(\n",
        "                    dp[i - 1][w],  # Exclude the item\n",
        "                    dp[i - 1][w - weights[i - 1]] + values[i - 1]  # Include the item\n",
        "                )\n",
        "            else:  # Current item cannot fit\n",
        "                dp[i][w] = dp[i - 1][w]\n",
        "\n",
        "    return dp[n][capacity]  # Maximum value is in the bottom-right corner\n",
        "\n",
        "# Test the function\n",
        "weights = [1, 3, 4, 5]\n",
        "values = [1, 4, 5, 7]\n",
        "capacity = 7\n",
        "print(\"Maximum value:\", knapsack(weights, values, capacity))  # Output: 9\n"
      ],
      "metadata": {
        "colab": {
          "base_uri": "https://localhost:8080/"
        },
        "id": "AdsCYTEDpSZ4",
        "outputId": "207e6fe0-dd55-44a2-dbd2-88c7f9aa1480"
      },
      "execution_count": null,
      "outputs": [
        {
          "output_type": "stream",
          "name": "stdout",
          "text": [
            "Maximum value: 9\n"
          ]
        }
      ]
    }
  ]
}